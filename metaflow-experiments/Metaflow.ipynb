{
  "cells": [
    {
      "cell_type": "code",
      "execution_count": null,
      "metadata": {
        "id": "M39TUO56scBI"
      },
      "outputs": [],
      "source": [
        "!pip install chromadb\n",
        "!pip install sentence_transformers\n",
        "!pip install mlflow"
      ]
    },
    {
      "cell_type": "code",
      "execution_count": 42,
      "metadata": {
        "id": "2fcAZjdXr36U"
      },
      "outputs": [],
      "source": [
        "import chromadb\n",
        "from chromadb.utils import embedding_functions\n",
        "from metaflow import FlowSpec, step, Parameter"
      ]
    },
    {
      "cell_type": "code",
      "execution_count": 3,
      "metadata": {
        "id": "d0pvDA2RsU84"
      },
      "outputs": [],
      "source": [
        "client = chromadb.PersistentClient()"
      ]
    },
    {
      "cell_type": "code",
      "execution_count": null,
      "metadata": {
        "id": "rEO2FQZyuKUU"
      },
      "outputs": [],
      "source": [
        "sentence_transformer_ef = embedding_functions.SentenceTransformerEmbeddingFunction(model_name=\"all-mpnet-base-v2\")"
      ]
    },
    {
      "cell_type": "code",
      "execution_count": 5,
      "metadata": {
        "id": "KOD_SNVYsyHE"
      },
      "outputs": [],
      "source": [
        "collection = client.get_or_create_collection(name=\"posts\", embedding_function=sentence_transformer_ef)"
      ]
    },
    {
      "cell_type": "code",
      "execution_count": 6,
      "metadata": {
        "id": "BMx_Lv3VtGmp"
      },
      "outputs": [],
      "source": [
        "def store_post(post:str, id:str):\n",
        "  collection.add(ids=[id], documents=[post])\n",
        "\n",
        "def find_similar_posts(query:str):\n",
        "  similar_posts = collection.query(query_texts=[query], n_results=10)\n",
        "  return similar_posts"
      ]
    },
    {
      "cell_type": "code",
      "execution_count": 7,
      "metadata": {
        "id": "QZcQnI1zvU0a"
      },
      "outputs": [],
      "source": [
        "store_post(\"How to install Linux in computer?\", \"1\")\n",
        "store_post(\"Which is best programming language to start with?\", \"2\")\n",
        "store_post(\"What are some common data structures used in Python?\", \"3\")\n",
        "store_post(\"How can I optimize my SQL queries for better performance?\", \"4\")\n",
        "store_post(\"What are the differences between TCP and UDP protocols?\", \"5\")\n",
        "store_post(\"How do I implement authentication in a Node.js application?\", \"6\")\n",
        "store_post(\"What are the best practices for securing a RESTful API?\", \"7\")\n",
        "store_post(\"How can I improve the efficiency of my algorithms in Java?\", \"8\")\n",
        "store_post(\"What are the steps to set up a virtual environment in Python?\", \"9\")\n",
        "store_post(\"\", \"10\")\n",
        "store_post(\"What are the differences between object-oriented programming and functional programming?\", \"11\")\n",
        "store_post(\"How can I handle errors gracefully in my JavaScript code?\", \"12\")\n",
        "store_post(\"What are some popular design patterns used in software development?\", \"13\")\n",
        "store_post(\"How do I implement multithreading in Python?\", \"14\")\n",
        "store_post(\"What are the advantages of using version control systems like Git?\", \"15\")\n",
        "store_post(\"How can I optimize my website for mobile devices?\", \"16\")\n",
        "store_post(\"What are the best practices for writing secure code in C#?\", \"17\")\n",
        "store_post(\"How do I set up a continuous integration/continuous deployment (CI/CD) pipeline?\", \"18\")\n",
        "store_post(\"What is the role of a software architect in the development process?\", \"19\")\n",
        "store_post(\"How can I use machine learning to improve customer engagement?\", \"20\")\n",
        "store_post(\"What are the key components of a microservices architecture?\", \"21\")\n",
        "store_post(\"How do I deploy a web application using Docker containers?\", \"22\")\n",
        "store_post(\"What are the differences between HTTP and HTTPS protocols?\", \"23\")\n",
        "store_post(\"How do I implement two-factor authentication in a web application?\", \"24\")\n",
        "store_post(\"What are some techniques for optimizing database performance?\", \"25\")\n",
        "store_post(\"How can I secure sensitive data in a cloud environment?\", \"26\")\n",
        "store_post(\"What are the best practices for code documentation?\", \"27\")\n",
        "store_post(\"How do I conduct code reviews effectively?\", \"28\")\n",
        "store_post(\"What are some strategies for refactoring legacy codebases?\", \"29\")\n",
        "store_post(\"How can I prevent SQL injection attacks in my web application?\", \"30\")\n",
        "store_post(\"What are the principles of clean code according to Robert C. Martin?\", \"31\")\n",
        "store_post(\"How do I implement a RESTful API using Flask framework?\", \"32\")\n",
        "store_post(\"What are the differences between unit testing and integration testing?\", \"33\")\n",
        "store_post(\"How do I design a scalable architecture for a cloud-based application?\", \"34\")\n",
        "store_post(\"What are some best practices for optimizing website performance?\", \"35\")\n",
        "store_post(\"How do I troubleshoot memory leaks in a Java application?\", \"36\")\n",
        "store_post(\"What are the pros and cons of using NoSQL databases?\", \"37\")\n",
        "store_post(\"How do I handle concurrency issues in a distributed system?\", \"38\")\n",
        "store_post(\"What are the differences between agile and waterfall software development methodologies?\", \"39\")\n",
        "store_post(\"How can I implement caching to improve application performance?\", \"40\")\n",
        "store_post(\"What are the key considerations for building a secure IoT system?\", \"41\")\n",
        "store_post(\"How do I encrypt data in transit and at rest?\", \"42\")\n",
        "store_post(\"What are the steps to set up a reverse proxy server?\", \"43\")\n",
        "store_post(\"How do I configure automatic backups for a database?\", \"44\")\n",
        "store_post(\"What are the advantages of using containers over virtual machines?\", \"45\")\n",
        "store_post(\"How can I use regular expressions to validate user input?\", \"46\")\n",
        "store_post(\"What are some common security vulnerabilities in web applications?\", \"47\")\n",
        "store_post(\"How do I optimize image loading time on a website?\", \"48\")\n",
        "store_post(\"What are the differences between GraphQL and REST APIs?\", \"49\")\n",
        "store_post(\"How can I monitor server performance and uptime?\", \"50\")\n",
        "store_post(\"What are some techniques for optimizing front-end rendering speed?\", \"51\")\n",
        "store_post(\"How do I implement role-based access control in a web application?\", \"52\")\n",
        "store_post(\"What are the key features of a good API documentation?\", \"53\")\n",
        "store_post(\"How do I handle file uploads securely in a web application?\", \"54\")\n",
        "store_post(\"What are some strategies for preventing cross-site scripting (XSS) attacks?\", \"55\")\n",
        "store_post(\"How can I ensure data integrity in a distributed database system?\", \"56\")\n",
        "store_post(\"What are the best practices for securing APIs in a microservices architecture?\", \"57\")\n",
        "store_post(\"How do I optimize SEO for a single-page application?\", \"58\")\n",
        "store_post(\"What are the differences between static and dynamic typing in programming languages?\", \"59\")\n",
        "store_post(\"How do I implement pagination in a RESTful API?\", \"60\")"
      ]
    },
    {
      "cell_type": "code",
      "execution_count": 48,
      "metadata": {
        "colab": {
          "base_uri": "https://localhost:8080/"
        },
        "id": "wr7wvkqt0P0N",
        "outputId": "32a8ddb2-4ce3-4387-b4ce-3251e438b7cb"
      },
      "outputs": [
        {
          "data": {
            "text/plain": [
              "{'ids': [['41', '47', '26', '17', '7', '52', '24', '42', '56', '23']],\n",
              " 'distances': [[1.3195376169715058,\n",
              "   1.339307776771548,\n",
              "   1.406569108210962,\n",
              "   1.4082696640993888,\n",
              "   1.4737332288453737,\n",
              "   1.47616808547836,\n",
              "   1.5296185759377157,\n",
              "   1.537895864370633,\n",
              "   1.5636940216771196,\n",
              "   1.5797471272727481]],\n",
              " 'metadatas': [[None, None, None, None, None, None, None, None, None, None]],\n",
              " 'embeddings': None,\n",
              " 'documents': [['What are the key considerations for building a secure IoT system?',\n",
              "   'What are some common security vulnerabilities in web applications?',\n",
              "   'How can I secure sensitive data in a cloud environment?',\n",
              "   'What are the best practices for writing secure code in C#?',\n",
              "   'What are the best practices for securing a RESTful API?',\n",
              "   'How do I implement role-based access control in a web application?',\n",
              "   'How do I implement two-factor authentication in a web application?',\n",
              "   'How do I encrypt data in transit and at rest?',\n",
              "   'How can I ensure data integrity in a distributed database system?',\n",
              "   'What are the differences between HTTP and HTTPS protocols?']],\n",
              " 'uris': None,\n",
              " 'data': None}"
            ]
          },
          "execution_count": 48,
          "metadata": {},
          "output_type": "execute_result"
        }
      ],
      "source": [
        "find_similar_posts(\"security\")"
      ]
    },
    {
      "cell_type": "code",
      "execution_count": 32,
      "metadata": {
        "id": "76RTgk8_Whgv"
      },
      "outputs": [],
      "source": [
        "import os\n",
        "\n",
        "os.environ['USERNAME'] = 'riyadhiman'"
      ]
    },
    {
      "cell_type": "markdown",
      "metadata": {
        "id": "0WEFncp0_1eE"
      },
      "source": [
        "# Flow for Storing Posts"
      ]
    },
    {
      "cell_type": "code",
      "execution_count": 55,
      "metadata": {
        "colab": {
          "base_uri": "https://localhost:8080/"
        },
        "id": "zDoOOmd8a_jk",
        "outputId": "e977619e-f593-4a61-e795-678e6bbeead5"
      },
      "outputs": [
        {
          "name": "stdout",
          "output_type": "stream",
          "text": [
            "\u001b[35m\u001b[1mMetaflow 2.11.9\u001b[0m\u001b[35m\u001b[22m executing \u001b[0m\u001b[31m\u001b[1mStorePostFlow\u001b[0m\u001b[35m\u001b[22m\u001b[0m\u001b[35m\u001b[22m for \u001b[0m\u001b[31m\u001b[1muser:riyadhiman\u001b[0m\u001b[35m\u001b[22m\u001b[K\u001b[0m\u001b[35m\u001b[22m\u001b[0m\n",
            "\u001b[35m\u001b[22mValidating your flow...\u001b[K\u001b[0m\u001b[35m\u001b[22m\u001b[0m\n",
            "\u001b[32m\u001b[1m    The graph looks good!\u001b[K\u001b[0m\u001b[32m\u001b[1m\u001b[0m\n",
            "\u001b[35m\u001b[22mRunning pylint...\u001b[K\u001b[0m\u001b[35m\u001b[22m\u001b[0m\n",
            "\u001b[32m\u001b[22m    Pylint not found, so extra checks are disabled.\u001b[K\u001b[0m\u001b[32m\u001b[22m\u001b[0m\n",
            "\u001b[35m2024-04-09 11:16:44.793 \u001b[0m\u001b[1mWorkflow starting (run-id 1712661404792136):\u001b[0m\n",
            "\u001b[35m2024-04-09 11:16:44.802 \u001b[0m\u001b[32m[1712661404792136/start/1 (pid 35692)] \u001b[0m\u001b[1mTask is starting.\u001b[0m\n",
            "\u001b[35m2024-04-09 11:16:53.460 \u001b[0m\u001b[32m[1712661404792136/start/1 (pid 35692)] \u001b[0m\u001b[1mTask finished successfully.\u001b[0m\n",
            "\u001b[35m2024-04-09 11:16:53.468 \u001b[0m\u001b[32m[1712661404792136/store_post/2 (pid 35737)] \u001b[0m\u001b[1mTask is starting.\u001b[0m\n",
            "\u001b[35m2024-04-09 11:17:00.719 \u001b[0m\u001b[32m[1712661404792136/store_post/2 (pid 35737)] \u001b[0m\u001b[22mStoring post with ID '61'...\u001b[0m\n",
            "\u001b[35m2024-04-09 11:17:01.788 \u001b[0m\u001b[32m[1712661404792136/store_post/2 (pid 35737)] \u001b[0m\u001b[22mAdd of existing embedding ID: 1\u001b[0m\n",
            "\u001b[35m2024-04-09 11:17:01.816 \u001b[0m\u001b[32m[1712661404792136/store_post/2 (pid 35737)] \u001b[0m\u001b[22mPost stored successfully.\u001b[0m\n",
            "\u001b[35m2024-04-09 11:17:03.373 \u001b[0m\u001b[32m[1712661404792136/store_post/2 (pid 35737)] \u001b[0m\u001b[1mTask finished successfully.\u001b[0m\n",
            "\u001b[35m2024-04-09 11:17:03.377 \u001b[0m\u001b[32m[1712661404792136/end/3 (pid 35789)] \u001b[0m\u001b[1mTask is starting.\u001b[0m\n",
            "\u001b[35m2024-04-09 11:17:10.049 \u001b[0m\u001b[32m[1712661404792136/end/3 (pid 35789)] \u001b[0m\u001b[22mFlow completed successfully.\u001b[0m\n",
            "\u001b[35m2024-04-09 11:17:11.574 \u001b[0m\u001b[32m[1712661404792136/end/3 (pid 35789)] \u001b[0m\u001b[1mTask finished successfully.\u001b[0m\n",
            "\u001b[35m2024-04-09 11:17:11.575 \u001b[0m\u001b[1mDone!\u001b[0m\n"
          ]
        }
      ],
      "source": [
        "!python main_store_post.py run"
      ]
    },
    {
      "cell_type": "markdown",
      "metadata": {
        "id": "MD0tq06H_74a"
      },
      "source": [
        "# Flow for Finding Similar Posts"
      ]
    },
    {
      "cell_type": "code",
      "execution_count": 54,
      "metadata": {
        "colab": {
          "base_uri": "https://localhost:8080/"
        },
        "id": "WQAueAlDcA7n",
        "outputId": "93cd4979-bda6-441f-80cb-6a9287f82664"
      },
      "outputs": [
        {
          "name": "stdout",
          "output_type": "stream",
          "text": [
            "\u001b[35m\u001b[1mMetaflow 2.11.9\u001b[0m\u001b[35m\u001b[22m executing \u001b[0m\u001b[31m\u001b[1mFindSimilarPostsFlow\u001b[0m\u001b[35m\u001b[22m\u001b[0m\u001b[35m\u001b[22m for \u001b[0m\u001b[31m\u001b[1muser:riyadhiman\u001b[0m\u001b[35m\u001b[22m\u001b[K\u001b[0m\u001b[35m\u001b[22m\u001b[0m\n",
            "\u001b[35m\u001b[22mValidating your flow...\u001b[K\u001b[0m\u001b[35m\u001b[22m\u001b[0m\n",
            "\u001b[32m\u001b[1m    The graph looks good!\u001b[K\u001b[0m\u001b[32m\u001b[1m\u001b[0m\n",
            "\u001b[35m\u001b[22mRunning pylint...\u001b[K\u001b[0m\u001b[35m\u001b[22m\u001b[0m\n",
            "\u001b[32m\u001b[22m    Pylint not found, so extra checks are disabled.\u001b[K\u001b[0m\u001b[32m\u001b[22m\u001b[0m\n",
            "\u001b[35m2024-04-09 11:07:02.087 \u001b[0m\u001b[1mWorkflow starting (run-id 1712660822086529):\u001b[0m\n",
            "\u001b[35m2024-04-09 11:07:02.095 \u001b[0m\u001b[32m[1712660822086529/start/1 (pid 33332)] \u001b[0m\u001b[1mTask is starting.\u001b[0m\n",
            "\u001b[35m2024-04-09 11:07:10.629 \u001b[0m\u001b[32m[1712660822086529/start/1 (pid 33332)] \u001b[0m\u001b[1mTask finished successfully.\u001b[0m\n",
            "\u001b[35m2024-04-09 11:07:10.633 \u001b[0m\u001b[32m[1712660822086529/find_similar_posts/2 (pid 33373)] \u001b[0m\u001b[1mTask is starting.\u001b[0m\n",
            "\u001b[35m2024-04-09 11:07:16.715 \u001b[0m\u001b[32m[1712660822086529/find_similar_posts/2 (pid 33373)] \u001b[0m\u001b[22mSearching for similar posts for query: 'security'...\u001b[0m\n",
            "\u001b[35m2024-04-09 11:07:17.863 \u001b[0m\u001b[32m[1712660822086529/find_similar_posts/2 (pid 33373)] \u001b[0m\u001b[22mAdd of existing embedding ID: 1\u001b[0m\n",
            "\u001b[35m2024-04-09 11:07:17.868 \u001b[0m\u001b[32m[1712660822086529/find_similar_posts/2 (pid 33373)] \u001b[0m\u001b[22mSearch completed. Here are the similar posts:\u001b[0m\n",
            "\u001b[35m2024-04-09 11:07:17.869 \u001b[0m\u001b[32m[1712660822086529/find_similar_posts/2 (pid 33373)] \u001b[0m\u001b[22m1. What are the key considerations for building a secure IoT system?\u001b[0m\n",
            "\u001b[35m2024-04-09 11:07:19.620 \u001b[0m\u001b[32m[1712660822086529/find_similar_posts/2 (pid 33373)] \u001b[0m\u001b[22m2. What are some common security vulnerabilities in web applications?\u001b[0m\n",
            "\u001b[35m2024-04-09 11:07:19.620 \u001b[0m\u001b[32m[1712660822086529/find_similar_posts/2 (pid 33373)] \u001b[0m\u001b[22m3. How can I secure sensitive data in a cloud environment?\u001b[0m\n",
            "\u001b[35m2024-04-09 11:07:19.620 \u001b[0m\u001b[32m[1712660822086529/find_similar_posts/2 (pid 33373)] \u001b[0m\u001b[22m4. What are the best practices for writing secure code in C#?\u001b[0m\n",
            "\u001b[35m2024-04-09 11:07:19.620 \u001b[0m\u001b[32m[1712660822086529/find_similar_posts/2 (pid 33373)] \u001b[0m\u001b[22m5. What are the best practices for securing a RESTful API?\u001b[0m\n",
            "\u001b[35m2024-04-09 11:07:19.621 \u001b[0m\u001b[32m[1712660822086529/find_similar_posts/2 (pid 33373)] \u001b[0m\u001b[22m6. How do I implement role-based access control in a web application?\u001b[0m\n",
            "\u001b[35m2024-04-09 11:07:19.621 \u001b[0m\u001b[32m[1712660822086529/find_similar_posts/2 (pid 33373)] \u001b[0m\u001b[22m7. How do I implement two-factor authentication in a web application?\u001b[0m\n",
            "\u001b[35m2024-04-09 11:07:19.621 \u001b[0m\u001b[32m[1712660822086529/find_similar_posts/2 (pid 33373)] \u001b[0m\u001b[22m8. How do I encrypt data in transit and at rest?\u001b[0m\n",
            "\u001b[35m2024-04-09 11:07:19.621 \u001b[0m\u001b[32m[1712660822086529/find_similar_posts/2 (pid 33373)] \u001b[0m\u001b[22m9. How can I ensure data integrity in a distributed database system?\u001b[0m\n",
            "\u001b[35m2024-04-09 11:07:19.621 \u001b[0m\u001b[32m[1712660822086529/find_similar_posts/2 (pid 33373)] \u001b[0m\u001b[22m10. What are the differences between HTTP and HTTPS protocols?\u001b[0m\n",
            "\u001b[35m2024-04-09 11:07:19.623 \u001b[0m\u001b[32m[1712660822086529/find_similar_posts/2 (pid 33373)] \u001b[0m\u001b[1mTask finished successfully.\u001b[0m\n",
            "\u001b[35m2024-04-09 11:07:19.640 \u001b[0m\u001b[32m[1712660822086529/end/3 (pid 33421)] \u001b[0m\u001b[1mTask is starting.\u001b[0m\n",
            "\u001b[35m2024-04-09 11:07:25.681 \u001b[0m\u001b[32m[1712660822086529/end/3 (pid 33421)] \u001b[0m\u001b[22mFlow completed successfully.\u001b[0m\n",
            "\u001b[35m2024-04-09 11:07:26.860 \u001b[0m\u001b[32m[1712660822086529/end/3 (pid 33421)] \u001b[0m\u001b[1mTask finished successfully.\u001b[0m\n",
            "\u001b[35m2024-04-09 11:07:26.861 \u001b[0m\u001b[1mDone!\u001b[0m\n"
          ]
        }
      ],
      "source": [
        "!python main_find_similar_posts.py run"
      ]
    },
    {
      "cell_type": "code",
      "execution_count": null,
      "metadata": {
        "id": "E8P_d54Fk7iP"
      },
      "outputs": [],
      "source": []
    }
  ],
  "metadata": {
    "colab": {
      "provenance": []
    },
    "kernelspec": {
      "display_name": "Python 3",
      "name": "python3"
    },
    "language_info": {
      "name": "python"
    }
  },
  "nbformat": 4,
  "nbformat_minor": 0
}
